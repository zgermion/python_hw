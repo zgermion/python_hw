{
 "cells": [
  {
   "cell_type": "markdown",
   "metadata": {
    "jp-MarkdownHeadingCollapsed": true,
    "tags": []
   },
   "source": [
    "## Задача 1"
   ]
  },
  {
   "cell_type": "markdown",
   "metadata": {},
   "source": [
    "Напишите программу, которая в заполненной нулями квадратной матрице $N\\times N$ проводит спираль из единиц. Спираль начинается в левом верхнем углу и закручивается по часовой стрелке.\n",
    "Каждая единица, кроме начальной и конечной, граничит по стороне ровно с двумя единицами.\n",
    "\n",
    "На вход подаётся $N\\leqslant 20$.<br>\n",
    "<strong>Использовать вспомогательные массивы и другие структуры данных нельзя</strong>"
   ]
  },
  {
   "cell_type": "markdown",
   "metadata": {},
   "source": [
    "```\n",
    "Input\n",
    "5\n",
    "\n",
    "Output\n",
    "1 1 1 1 1\n",
    "0 0 0 0 1\n",
    "1 1 1 0 1\n",
    "1 0 0 0 1\n",
    "1 1 1 1 1\n",
    "```"
   ]
  },
  {
   "cell_type": "code",
   "execution_count": 27,
   "metadata": {},
   "outputs": [
    {
     "name": "stdin",
     "output_type": "stream",
     "text": [
      " 10\n"
     ]
    },
    {
     "name": "stdout",
     "output_type": "stream",
     "text": [
      "1  1  1  1  1  1  1  1  1  1  \n",
      "\n",
      "0  0  0  0  0  0  0  0  0  1  \n",
      "\n",
      "1  1  1  1  1  1  1  1  0  1  \n",
      "\n",
      "1  0  0  0  0  0  0  1  0  1  \n",
      "\n",
      "1  0  1  1  1  1  0  1  0  1  \n",
      "\n",
      "1  0  1  0  0  1  0  1  0  1  \n",
      "\n",
      "1  0  1  0  0  0  0  1  0  1  \n",
      "\n",
      "1  0  1  1  1  1  1  1  0  1  \n",
      "\n",
      "1  0  0  0  0  0  0  0  0  1  \n",
      "\n",
      "1  1  1  1  1  1  1  1  1  1  \n",
      "\n"
     ]
    }
   ],
   "source": [
    "def print_mas(mas):\n",
    "    for i in range(0, len(mas)):\n",
    "        for j in range(0, len(mas[i])):\n",
    "            print(mas[i][j], end='  ')\n",
    "        print('\\n')\n",
    "\n",
    "N = int(input())       \n",
    "mas = []\n",
    "for i in range(N): \n",
    "    mas.append([0] * N)\n",
    "    \n",
    "for i in range(0, N, 2):\n",
    "    for j in range(i-1, N-i, 1):\n",
    "        mas[i][j]=1\n",
    "    for j in range(i+1, N-i, 1):\n",
    "        mas[j][N - i - 1]=1\n",
    "    for j in range(i, N-i-1, 1):\n",
    "        mas[N - i - 1][j]= 1\n",
    "    for j in range(i + 2, N-i, 1):\n",
    "        mas[j][i]= 1\n",
    "        \n",
    "#  Чтобы конечная точка граничила только с 1 единицей\n",
    "if N%2 == 0:\n",
    "    a = int(N/2)\n",
    "    mas[a][a-1] = 0\n",
    "    \n",
    "print_mas(mas)"
   ]
  },
  {
   "cell_type": "markdown",
   "metadata": {
    "jp-MarkdownHeadingCollapsed": true,
    "tags": []
   },
   "source": [
    "## Задача 2"
   ]
  },
  {
   "cell_type": "markdown",
   "metadata": {},
   "source": [
    "Дана квадратная таблица размером $N\\times N$, заполненная нулями и единицами. Единицами обозначается суша, нулями — вода. Участки суши граничат друг с другом, если они имеют общую сторону. Набор всех граничащих участков суши назовём островом.\n",
    "\n",
    "Напишите программу, подсчитывающую количество островов.<br>\n",
    "На вход программы подаётся натуральное число $N~(N < 100)$. Затем в $N$ строках записаны через пробел по $N$ чисел (нулей и единиц) в каждой строке.\n",
    "\n",
    "Программа должна вывести одно число — ответ на вопрос задачи."
   ]
  },
  {
   "cell_type": "code",
   "execution_count": 51,
   "metadata": {},
   "outputs": [
    {
     "name": "stdin",
     "output_type": "stream",
     "text": [
      " 6\n",
      " 1 1 0 1 0 1\n",
      " 1 0 0 1 0 0\n",
      " 0 0 0 0 0 1\n",
      " 1 1 0 1 0 0\n",
      " 1 1 0 0 1 1\n",
      " 1 0 0 1 0 1\n"
     ]
    },
    {
     "name": "stdout",
     "output_type": "stream",
     "text": [
      "8\n"
     ]
    }
   ],
   "source": [
    "def count_i(mas, i, j):\n",
    "    if i < 0 or j < 0 or i>N+1 or j>N+1:\n",
    "        return mas\n",
    "    if mas[i][j] != 1:\n",
    "        return mas\n",
    "    mas[i][j] = 0;\n",
    "    count_i(mas, i+1, j)\n",
    "    count_i(mas, i-1, j)\n",
    "    count_i(mas, i, j+1)\n",
    "    count_i(mas, i, j-1)\n",
    "    return mas\n",
    "\n",
    "def print_mas(mas):\n",
    "    for i in range(0, len(mas)):\n",
    "        for j in range(0, len(mas[i])):\n",
    "            print(mas[i][j], end='  ')\n",
    "        print('\\n')\n",
    "\n",
    "N = int(input())\n",
    "\n",
    "mas = [] + [[0]*(N+2)]\n",
    "for i in range(N): \n",
    "    mas.append([0]+list(map(int, input().split()))+[0])\n",
    "    \n",
    "mas = mas + [[0]*(N+2)]\n",
    "\n",
    "count_island = 0;\n",
    "\n",
    "for i in range(1, N+2, 1):\n",
    "    for j in range(1, N+2, 1):\n",
    "        if mas[i][j] == 1:\n",
    "            count_island = count_island + 1\n",
    "            mas = count_i(mas, i, j)\n",
    "\n",
    "print(count_island)"
   ]
  },
  {
   "cell_type": "markdown",
   "metadata": {},
   "source": [
    "```\n",
    "Input\n",
    "3\n",
    "1 1 1\n",
    "0 0 0\n",
    "1 1 1\n",
    "\n",
    "Output\n",
    "2\n",
    "```"
   ]
  },
  {
   "cell_type": "markdown",
   "metadata": {
    "jp-MarkdownHeadingCollapsed": true,
    "tags": []
   },
   "source": [
    "## Задача 3"
   ]
  },
  {
   "cell_type": "markdown",
   "metadata": {},
   "source": [
    "Дан неориентированный граф. Необходимо посчитать количество его компонент связности и вывести их.\n",
    "\n",
    "В первой строке записаны два числа $N$ и $M~(0<N\\leqslant 100000, 0\\leqslant M\\leqslant100000)$. В следующих $M$ строках записаны по два числа $i$ и $j~(1\\leqslant i,j\\leqslant N)$, которые означают, что вершины $i$ и $j$ соединены ребром.\n",
    "\n",
    "В первой строчке выведите количество компонент связности. Далее выведите сами компоненты связности в следующем формате: в первой строке количество вершин в компоненте, во второй — сами вершины в произвольном порядке."
   ]
  },
  {
   "cell_type": "markdown",
   "metadata": {},
   "source": [
    "```\n",
    "Input\n",
    "6 4\n",
    "3 1\n",
    "1 2\n",
    "5 4\n",
    "2 3\n",
    "\n",
    "Output\n",
    "3\n",
    "3\n",
    "1 2 3 \n",
    "2\n",
    "4 5 \n",
    "1\n",
    "6\n",
    "```"
   ]
  },
  {
   "cell_type": "code",
   "execution_count": 1,
   "metadata": {},
   "outputs": [
    {
     "name": "stdin",
     "output_type": "stream",
     "text": [
      " 6 4\n",
      " 3 1\n",
      " 1 2\n",
      " 5 4\n",
      " 2 3\n"
     ]
    },
    {
     "name": "stdout",
     "output_type": "stream",
     "text": [
      "3\n",
      "3\n",
      "1 2 3 \n",
      "2\n",
      "4 5 \n",
      "1\n",
      "6 \n"
     ]
    }
   ],
   "source": [
    "# есть ли ребро в графе\n",
    "def in_graph(edges, a, b):\n",
    "    return (b,a) in edges or (a,b) in edges\n",
    "\n",
    "n, m = map(int, input().split())\n",
    "a = []\n",
    "\n",
    "for i in range(m):\n",
    "    a.append(tuple(map(int, input().split())))\n",
    "    \n",
    "color = n*[0]\n",
    "v = []\n",
    "s = 0\n",
    "c = 1\n",
    "\n",
    "while 0 in color:\n",
    "    i = 0\n",
    "    while i<n and color[i] != 0:\n",
    "        i = i+1\n",
    "    if i>=n:\n",
    "        break\n",
    "    else:\n",
    "        v.append(i)\n",
    "        color[i] = c\n",
    "        while len(v) != 0:\n",
    "            f = 0\n",
    "            for i in range(n):\n",
    "                if in_graph(a,i+1,v[-1]+1) and color[i] == 0:\n",
    "                    v.append(i)\n",
    "                    color[i] = c\n",
    "                    f = 1\n",
    "                    break\n",
    "            if f == 0:\n",
    "                v.pop()\n",
    "        s += 1\n",
    "        c += 1\n",
    "print(c-1)\n",
    "i = 1\n",
    "\n",
    "while i in color:\n",
    "    print(color.count(i))\n",
    "    for j in range(n):\n",
    "        if color[j] == i:\n",
    "            print(j+1, end = ' ')\n",
    "    print()\n",
    "    i += 1"
   ]
  },
  {
   "cell_type": "markdown",
   "metadata": {
    "jp-MarkdownHeadingCollapsed": true,
    "tags": []
   },
   "source": [
    "## Задача 4"
   ]
  },
  {
   "cell_type": "markdown",
   "metadata": {},
   "source": [
    "На банкет были приглашены $N$ Очень Важных Персон (ОВП). Были поставлены $2$ стола. Столы достаточно большие, чтобы все посетители банкета могли сесть за любой из них. Проблема заключается в том, что некоторые ОВП не ладят друг с другом и не могут сидеть за одним столом. Вас попросили определить, возможно ли всех ОВП рассадить за двумя столами.\n",
    "\n",
    "В первой строке входных данных содержатся два числа: $N$ и $M~(1\\leqslant N,M\\leqslant100)$, где $N$ — количество ОВП, а $M$ — количество пар ОВП, которые не могут сидеть за одним столом. В следующих $M$ строках записано по $2$ числа — пары ОВП, которые не могут сидеть за одним столом.\n",
    "\n",
    "Если способ рассадить ОВП существует, то  выведите `YES` в первой строке и номера ОВП, которых необходимо посадить за первый стол, во второй строке (ОВП с номером $1$ всегда сидит за первым столом). В противном случае в первой и единственной строке выведите `NO`."
   ]
  },
  {
   "cell_type": "code",
   "execution_count": 28,
   "metadata": {},
   "outputs": [
    {
     "name": "stdin",
     "output_type": "stream",
     "text": [
      " 3 2\n",
      " 1 2\n",
      " 1 3\n"
     ]
    },
    {
     "name": "stdout",
     "output_type": "stream",
     "text": [
      "Yes\n",
      "1 "
     ]
    }
   ],
   "source": [
    "def DFS(v, col, used, color, relations, n):\n",
    "    used[v] = False\n",
    "    color[v] = col\n",
    "    for j in range(1, n+1):\n",
    "        if (relations[v][j]!=0 and used[j]):\n",
    "            DFS(j, col-1, used, color, relations, n)\n",
    "\n",
    "\n",
    "n, m = map(int, input().split())\n",
    "\n",
    "relations = []\n",
    "for i in range(n+1): \n",
    "    relations.append([0] * (n+1))\n",
    "used = [0]*(n+1)\n",
    "color = [0]*(n+1)\n",
    "\n",
    "for i in range(n+1):\n",
    "    for j in range(n+1):\n",
    "        relations[i][j] = 0\n",
    "        \n",
    "for i in range(m):\n",
    "    x, y = map(int, input().split())\n",
    "    relations[x][y] = 1\n",
    "    relations[y][x] = 1\n",
    "    \n",
    "\n",
    "for i in range(1, n+1):\n",
    "    used[i] = True\n",
    "    color[i] = 0\n",
    "    \n",
    "for i in range(1, n+1):\n",
    "    if used[i] == True:\n",
    "        DFS(i, 1, used, color, relations, n)\n",
    "        \n",
    "ability = True\n",
    "\n",
    "for i in range(1, n+1):\n",
    "    for j in range(1, n+1):\n",
    "        if (color[i] == color[j] and relations[i][j] != 0):\n",
    "            ability = False\n",
    "            \n",
    "if ability:\n",
    "    print('Yes')\n",
    "    for i in range(1, n+1):\n",
    "        if color[i] == 1:\n",
    "            print(i, end = ' ')\n",
    "else:\n",
    "    print('No')"
   ]
  },
  {
   "cell_type": "markdown",
   "metadata": {},
   "source": [
    "```\n",
    "Input\n",
    "3 2\n",
    "1 2\n",
    "1 3\n",
    "\n",
    "Output\n",
    "YES\n",
    "1\n",
    "```"
   ]
  }
 ],
 "metadata": {
  "kernelspec": {
   "display_name": "Python 3 (ipykernel)",
   "language": "python",
   "name": "python3"
  },
  "language_info": {
   "codemirror_mode": {
    "name": "ipython",
    "version": 3
   },
   "file_extension": ".py",
   "mimetype": "text/x-python",
   "name": "python",
   "nbconvert_exporter": "python",
   "pygments_lexer": "ipython3",
   "version": "3.9.7"
  },
  "vscode": {
   "interpreter": {
    "hash": "1e0c31fdd5e0d0b680b17eb6fd00c1fcf7bf626c3f2e622ac74a703c3e255cc2"
   }
  }
 },
 "nbformat": 4,
 "nbformat_minor": 4
}
