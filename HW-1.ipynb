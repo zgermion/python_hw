{
 "cells": [
  {
   "cell_type": "markdown",
   "metadata": {},
   "source": [
    "# Задача 1"
   ]
  },
  {
   "cell_type": "markdown",
   "metadata": {},
   "source": [
    "Зеленин Герман Евгеньевич"
   ]
  },
  {
   "cell_type": "markdown",
   "metadata": {},
   "source": [
    "Вывести словарь. Ключ = любое из возможных значений суммы, выпавшей на игральных костях, значение = список из всех комбинаций игральных костей, которые дают эту сумму."
   ]
  },
  {
   "cell_type": "code",
   "execution_count": 84,
   "metadata": {},
   "outputs": [
    {
     "data": {
      "text/plain": [
       "{2: [(1, 1)],\n",
       " 3: [(1, 2), (2, 1)],\n",
       " 4: [(1, 3), (2, 2), (3, 1)],\n",
       " 5: [(1, 4), (2, 3), (3, 2), (4, 1)],\n",
       " 6: [(1, 5), (2, 4), (3, 3), (4, 2), (5, 1)],\n",
       " 7: [(1, 6), (2, 5), (3, 4), (4, 3), (5, 2), (6, 1)],\n",
       " 8: [(2, 6), (3, 5), (4, 4), (5, 3), (6, 2)],\n",
       " 9: [(3, 6), (4, 5), (5, 4), (6, 3)],\n",
       " 10: [(4, 6), (5, 5), (6, 4)],\n",
       " 11: [(5, 6), (6, 5)],\n",
       " 12: [(6, 6)]}"
      ]
     },
     "execution_count": 84,
     "metadata": {},
     "output_type": "execute_result"
    }
   ],
   "source": [
    "d1 = [1, 2, 3, 6, 5, 4]\n",
    "d2 = [1, 2, 3, 4, 5, 6]\n",
    "\n",
    "d1 = sorted(d1)\n",
    "d2 = sorted(d2)\n",
    "\n",
    "s = set()\n",
    "\n",
    "for i in d1:\n",
    "    for j in d2:\n",
    "        s.add(i+j)\n",
    "\n",
    "d = dict()\n",
    "\n",
    "d = d.fromkeys(list(s))\n",
    "\n",
    "for i in s:\n",
    "    d[i] = []\n",
    "\n",
    "for i in d1:\n",
    "    for j in d2:\n",
    "        c = []\n",
    "        c = d[i+j]\n",
    "        c.append(tuple([i, j]))\n",
    "        d[i+j] = c\n",
    "        \n",
    "d"
   ]
  },
  {
   "cell_type": "markdown",
   "metadata": {},
   "source": [
    "# Задача 2"
   ]
  },
  {
   "cell_type": "markdown",
   "metadata": {},
   "source": [
    "Напишите двоичный поиск числа в отсортированном числовом массиве (необходимо вывести индекс искомого элемента, если он там есть)."
   ]
  },
  {
   "cell_type": "code",
   "execution_count": 86,
   "metadata": {},
   "outputs": [
    {
     "name": "stdin",
     "output_type": "stream",
     "text": [
      "Введите размер массива 5\n"
     ]
    },
    {
     "name": "stdout",
     "output_type": "stream",
     "text": [
      "Введите массив:\n"
     ]
    },
    {
     "name": "stdin",
     "output_type": "stream",
     "text": [
      " 1\n",
      " 2\n",
      " 4\n",
      " 3\n",
      " 5\n",
      "Введите искомый элемент 3\n"
     ]
    },
    {
     "name": "stdout",
     "output_type": "stream",
     "text": [
      "Позиция искомого элемента: 2\n"
     ]
    }
   ],
   "source": [
    "def binarysearch(a, k):\n",
    "    f = False\n",
    "    left = 0\n",
    "    right = len(a)-1\n",
    "\n",
    "    while left<=right and not f:\n",
    "        position = 0\n",
    "        \n",
    "        m = (left + right)//2\n",
    "        \n",
    "        if a[m] == k:\n",
    "            position = m\n",
    "            f = True\n",
    "        else:\n",
    "            if k < a[m]:\n",
    "                right = m-1\n",
    "            else:\n",
    "                left = m+1\n",
    "                \n",
    "    return (position, f)\n",
    "\n",
    "\n",
    "\n",
    "n = int(input('Введите размер массива'))\n",
    "print('Введите массив:')\n",
    "\n",
    "a = []\n",
    "\n",
    "for i in range(n):\n",
    "    k = float(input())\n",
    "    a.append(k)\n",
    "    \n",
    "a = sorted(a)\n",
    "\n",
    "k = float(input('Введите искомый элемент'))\n",
    "\n",
    "ans = binarysearch(a, k)\n",
    "\n",
    "if(ans[1] == True):\n",
    "    print('Позиция искомого элемента:', ans[0])\n",
    "else:\n",
    "    print('Такого элемента в списке нет!')"
   ]
  },
  {
   "cell_type": "markdown",
   "metadata": {},
   "source": [
    "# Задача 3"
   ]
  },
  {
   "cell_type": "markdown",
   "metadata": {},
   "source": [
    "Имеется цифровой циферблат с несколькими цифрами. (https://i.ytimg.com/vi/0o5OyAU9HRU/maxresdefault.jpg)\n",
    "\n",
    "Изначально табло выключено. Затем табло показывает несколько заданных чисел. В конце работы табло выключается.\n",
    "\n",
    "На вход подаётся число N (кол-во разрядов на табло) и последовательность показываемых чисел от 0 до 10^N-1, разделённых пробелом.\n",
    "\n",
    "Требуется вывести количество переключений сегментов.\n",
    "\n",
    "Например:\n",
    "```\n",
    "Input\n",
    "1\n",
    "1 3 1\n",
    "\n",
    "Output\n",
    "10\n",
    "\n",
    "\n",
    "Input\n",
    "2\n",
    "10 11\n",
    "\n",
    "Output\n",
    "16\n",
    "```"
   ]
  },
  {
   "cell_type": "code",
   "execution_count": 83,
   "metadata": {},
   "outputs": [
    {
     "name": "stdin",
     "output_type": "stream",
     "text": [
      "Число разрядов 2\n",
      " 10 11\n"
     ]
    },
    {
     "name": "stdout",
     "output_type": "stream",
     "text": [
      "[0, 0, 0, 1, 1, 0, 0, 1, 1, 1, 1, 1, 1, 0]\n",
      "[0, 0, 0, 0, 0, 0, 0, 1, 1, 1, 0, 0, 1, 0]\n",
      "[0, 0, 0, 1, 1, 0, 0, 0, 0, 0, 1, 1, 0, 0]\n",
      "Число изменений:  16\n"
     ]
    }
   ],
   "source": [
    "n = int(input('Число разрядов'))\n",
    "str_zero = ''\n",
    "for i in range(n):\n",
    "    str_zero = str_zero+'z'\n",
    "\n",
    "array_num = input().split()\n",
    "array_num = [str_zero] + array_num + [str_zero]\n",
    "m = len(array_num)\n",
    "\n",
    "zero_2 = [0, 0, 0, 0, 0, 0, 0]\n",
    "zero = [1, 1, 1, 1, 1, 1, 0]\n",
    "one = [0, 0, 0, 1, 1, 0, 0]\n",
    "two = [1, 0, 1, 1, 0, 1, 1]\n",
    "three = [0, 0, 1, 1, 1, 1, 1]\n",
    "four = [0, 1, 0, 1, 1, 0, 1]\n",
    "five = [0, 1, 1, 0, 1, 1, 1]\n",
    "six = [1, 1, 1, 0, 1, 1, 1]\n",
    "seven = [0, 0, 1, 1, 1, 0, 0]\n",
    "eight = [1, 1, 1, 1, 1, 1, 1]\n",
    "nine = [0, 1, 1, 1, 1, 1, 1]\n",
    "\n",
    "num_name = dict({'0': zero, '1': one, '2': two, '3': three, '4': four, '5': five, '6': six, '7': seven, '8': eight, '9': nine, 'z': zero_2})\n",
    "summa = 0\n",
    "\n",
    "for i in range(m-1):\n",
    "    l1 = array_num[i+1]\n",
    "    l2 = array_num[i]\n",
    "    l1_array = []\n",
    "    l2_array = []\n",
    "    for j in range(n):\n",
    "        l1_array = l1_array + num_name[l1[j]]\n",
    "        l2_array = l2_array + num_name[l2[j]]\n",
    "    raznica = [abs(a_i - b_i) for a_i, b_i in zip(l1_array, l2_array)]\n",
    "    print(raznica)\n",
    "    summa = summa + sum(raznica)\n",
    "print('Число изменений: ', summa)"
   ]
  }
 ],
 "metadata": {
  "kernelspec": {
   "display_name": "Python 3 (ipykernel)",
   "language": "python",
   "name": "python3"
  },
  "language_info": {
   "codemirror_mode": {
    "name": "ipython",
    "version": 3
   },
   "file_extension": ".py",
   "mimetype": "text/x-python",
   "name": "python",
   "nbconvert_exporter": "python",
   "pygments_lexer": "ipython3",
   "version": "3.9.7"
  },
  "vscode": {
   "interpreter": {
    "hash": "654ac8a58a760a97f65542d0ae1be60444a9fa4569979b0f4ebe92c522c95f47"
   }
  }
 },
 "nbformat": 4,
 "nbformat_minor": 4
}
